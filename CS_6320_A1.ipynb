{
  "cells": [
    {
      "cell_type": "markdown",
      "metadata": {
        "id": "view-in-github",
        "colab_type": "text"
      },
      "source": [
        "<a href=\"https://colab.research.google.com/github/rahulkarthik279/CS6320_Assignment1_Group11/blob/main/CS_6320_A1.ipynb\" target=\"_parent\"><img src=\"https://colab.research.google.com/assets/colab-badge.svg\" alt=\"Open In Colab\"/></a>"
      ]
    },
    {
      "cell_type": "markdown",
      "source": [
        "# CS 6320 A1 Code"
      ],
      "metadata": {
        "id": "LvAaC-dd6wJj"
      }
    },
    {
      "cell_type": "markdown",
      "metadata": {
        "id": "o_QSeCzBNeHq"
      },
      "source": [
        "Upload the training and validation text files by running this cell and clicking \"Choose Files\" below"
      ]
    },
    {
      "cell_type": "code",
      "execution_count": null,
      "metadata": {
        "colab": {
          "base_uri": "https://localhost:8080/",
          "height": 130
        },
        "id": "QCzKTG0KCrIm",
        "outputId": "e99920ad-7fc6-403f-da0d-ed7b5002ed2c"
      },
      "outputs": [
        {
          "output_type": "display_data",
          "data": {
            "text/plain": [
              "<IPython.core.display.HTML object>"
            ],
            "text/html": [
              "\n",
              "     <input type=\"file\" id=\"files-4ea51bbd-a5ee-47b8-8a9e-ce00ba1052e3\" name=\"files[]\" multiple disabled\n",
              "        style=\"border:none\" />\n",
              "     <output id=\"result-4ea51bbd-a5ee-47b8-8a9e-ce00ba1052e3\">\n",
              "      Upload widget is only available when the cell has been executed in the\n",
              "      current browser session. Please rerun this cell to enable.\n",
              "      </output>\n",
              "      <script>// Copyright 2017 Google LLC\n",
              "//\n",
              "// Licensed under the Apache License, Version 2.0 (the \"License\");\n",
              "// you may not use this file except in compliance with the License.\n",
              "// You may obtain a copy of the License at\n",
              "//\n",
              "//      http://www.apache.org/licenses/LICENSE-2.0\n",
              "//\n",
              "// Unless required by applicable law or agreed to in writing, software\n",
              "// distributed under the License is distributed on an \"AS IS\" BASIS,\n",
              "// WITHOUT WARRANTIES OR CONDITIONS OF ANY KIND, either express or implied.\n",
              "// See the License for the specific language governing permissions and\n",
              "// limitations under the License.\n",
              "\n",
              "/**\n",
              " * @fileoverview Helpers for google.colab Python module.\n",
              " */\n",
              "(function(scope) {\n",
              "function span(text, styleAttributes = {}) {\n",
              "  const element = document.createElement('span');\n",
              "  element.textContent = text;\n",
              "  for (const key of Object.keys(styleAttributes)) {\n",
              "    element.style[key] = styleAttributes[key];\n",
              "  }\n",
              "  return element;\n",
              "}\n",
              "\n",
              "// Max number of bytes which will be uploaded at a time.\n",
              "const MAX_PAYLOAD_SIZE = 100 * 1024;\n",
              "\n",
              "function _uploadFiles(inputId, outputId) {\n",
              "  const steps = uploadFilesStep(inputId, outputId);\n",
              "  const outputElement = document.getElementById(outputId);\n",
              "  // Cache steps on the outputElement to make it available for the next call\n",
              "  // to uploadFilesContinue from Python.\n",
              "  outputElement.steps = steps;\n",
              "\n",
              "  return _uploadFilesContinue(outputId);\n",
              "}\n",
              "\n",
              "// This is roughly an async generator (not supported in the browser yet),\n",
              "// where there are multiple asynchronous steps and the Python side is going\n",
              "// to poll for completion of each step.\n",
              "// This uses a Promise to block the python side on completion of each step,\n",
              "// then passes the result of the previous step as the input to the next step.\n",
              "function _uploadFilesContinue(outputId) {\n",
              "  const outputElement = document.getElementById(outputId);\n",
              "  const steps = outputElement.steps;\n",
              "\n",
              "  const next = steps.next(outputElement.lastPromiseValue);\n",
              "  return Promise.resolve(next.value.promise).then((value) => {\n",
              "    // Cache the last promise value to make it available to the next\n",
              "    // step of the generator.\n",
              "    outputElement.lastPromiseValue = value;\n",
              "    return next.value.response;\n",
              "  });\n",
              "}\n",
              "\n",
              "/**\n",
              " * Generator function which is called between each async step of the upload\n",
              " * process.\n",
              " * @param {string} inputId Element ID of the input file picker element.\n",
              " * @param {string} outputId Element ID of the output display.\n",
              " * @return {!Iterable<!Object>} Iterable of next steps.\n",
              " */\n",
              "function* uploadFilesStep(inputId, outputId) {\n",
              "  const inputElement = document.getElementById(inputId);\n",
              "  inputElement.disabled = false;\n",
              "\n",
              "  const outputElement = document.getElementById(outputId);\n",
              "  outputElement.innerHTML = '';\n",
              "\n",
              "  const pickedPromise = new Promise((resolve) => {\n",
              "    inputElement.addEventListener('change', (e) => {\n",
              "      resolve(e.target.files);\n",
              "    });\n",
              "  });\n",
              "\n",
              "  const cancel = document.createElement('button');\n",
              "  inputElement.parentElement.appendChild(cancel);\n",
              "  cancel.textContent = 'Cancel upload';\n",
              "  const cancelPromise = new Promise((resolve) => {\n",
              "    cancel.onclick = () => {\n",
              "      resolve(null);\n",
              "    };\n",
              "  });\n",
              "\n",
              "  // Wait for the user to pick the files.\n",
              "  const files = yield {\n",
              "    promise: Promise.race([pickedPromise, cancelPromise]),\n",
              "    response: {\n",
              "      action: 'starting',\n",
              "    }\n",
              "  };\n",
              "\n",
              "  cancel.remove();\n",
              "\n",
              "  // Disable the input element since further picks are not allowed.\n",
              "  inputElement.disabled = true;\n",
              "\n",
              "  if (!files) {\n",
              "    return {\n",
              "      response: {\n",
              "        action: 'complete',\n",
              "      }\n",
              "    };\n",
              "  }\n",
              "\n",
              "  for (const file of files) {\n",
              "    const li = document.createElement('li');\n",
              "    li.append(span(file.name, {fontWeight: 'bold'}));\n",
              "    li.append(span(\n",
              "        `(${file.type || 'n/a'}) - ${file.size} bytes, ` +\n",
              "        `last modified: ${\n",
              "            file.lastModifiedDate ? file.lastModifiedDate.toLocaleDateString() :\n",
              "                                    'n/a'} - `));\n",
              "    const percent = span('0% done');\n",
              "    li.appendChild(percent);\n",
              "\n",
              "    outputElement.appendChild(li);\n",
              "\n",
              "    const fileDataPromise = new Promise((resolve) => {\n",
              "      const reader = new FileReader();\n",
              "      reader.onload = (e) => {\n",
              "        resolve(e.target.result);\n",
              "      };\n",
              "      reader.readAsArrayBuffer(file);\n",
              "    });\n",
              "    // Wait for the data to be ready.\n",
              "    let fileData = yield {\n",
              "      promise: fileDataPromise,\n",
              "      response: {\n",
              "        action: 'continue',\n",
              "      }\n",
              "    };\n",
              "\n",
              "    // Use a chunked sending to avoid message size limits. See b/62115660.\n",
              "    let position = 0;\n",
              "    do {\n",
              "      const length = Math.min(fileData.byteLength - position, MAX_PAYLOAD_SIZE);\n",
              "      const chunk = new Uint8Array(fileData, position, length);\n",
              "      position += length;\n",
              "\n",
              "      const base64 = btoa(String.fromCharCode.apply(null, chunk));\n",
              "      yield {\n",
              "        response: {\n",
              "          action: 'append',\n",
              "          file: file.name,\n",
              "          data: base64,\n",
              "        },\n",
              "      };\n",
              "\n",
              "      let percentDone = fileData.byteLength === 0 ?\n",
              "          100 :\n",
              "          Math.round((position / fileData.byteLength) * 100);\n",
              "      percent.textContent = `${percentDone}% done`;\n",
              "\n",
              "    } while (position < fileData.byteLength);\n",
              "  }\n",
              "\n",
              "  // All done.\n",
              "  yield {\n",
              "    response: {\n",
              "      action: 'complete',\n",
              "    }\n",
              "  };\n",
              "}\n",
              "\n",
              "scope.google = scope.google || {};\n",
              "scope.google.colab = scope.google.colab || {};\n",
              "scope.google.colab._files = {\n",
              "  _uploadFiles,\n",
              "  _uploadFilesContinue,\n",
              "};\n",
              "})(self);\n",
              "</script> "
            ]
          },
          "metadata": {}
        },
        {
          "output_type": "stream",
          "name": "stdout",
          "text": [
            "Saving train.txt to train.txt\n"
          ]
        },
        {
          "output_type": "display_data",
          "data": {
            "text/plain": [
              "<IPython.core.display.HTML object>"
            ],
            "text/html": [
              "\n",
              "     <input type=\"file\" id=\"files-5986d8f9-65ad-4bca-9e9f-b799b6d6f48a\" name=\"files[]\" multiple disabled\n",
              "        style=\"border:none\" />\n",
              "     <output id=\"result-5986d8f9-65ad-4bca-9e9f-b799b6d6f48a\">\n",
              "      Upload widget is only available when the cell has been executed in the\n",
              "      current browser session. Please rerun this cell to enable.\n",
              "      </output>\n",
              "      <script>// Copyright 2017 Google LLC\n",
              "//\n",
              "// Licensed under the Apache License, Version 2.0 (the \"License\");\n",
              "// you may not use this file except in compliance with the License.\n",
              "// You may obtain a copy of the License at\n",
              "//\n",
              "//      http://www.apache.org/licenses/LICENSE-2.0\n",
              "//\n",
              "// Unless required by applicable law or agreed to in writing, software\n",
              "// distributed under the License is distributed on an \"AS IS\" BASIS,\n",
              "// WITHOUT WARRANTIES OR CONDITIONS OF ANY KIND, either express or implied.\n",
              "// See the License for the specific language governing permissions and\n",
              "// limitations under the License.\n",
              "\n",
              "/**\n",
              " * @fileoverview Helpers for google.colab Python module.\n",
              " */\n",
              "(function(scope) {\n",
              "function span(text, styleAttributes = {}) {\n",
              "  const element = document.createElement('span');\n",
              "  element.textContent = text;\n",
              "  for (const key of Object.keys(styleAttributes)) {\n",
              "    element.style[key] = styleAttributes[key];\n",
              "  }\n",
              "  return element;\n",
              "}\n",
              "\n",
              "// Max number of bytes which will be uploaded at a time.\n",
              "const MAX_PAYLOAD_SIZE = 100 * 1024;\n",
              "\n",
              "function _uploadFiles(inputId, outputId) {\n",
              "  const steps = uploadFilesStep(inputId, outputId);\n",
              "  const outputElement = document.getElementById(outputId);\n",
              "  // Cache steps on the outputElement to make it available for the next call\n",
              "  // to uploadFilesContinue from Python.\n",
              "  outputElement.steps = steps;\n",
              "\n",
              "  return _uploadFilesContinue(outputId);\n",
              "}\n",
              "\n",
              "// This is roughly an async generator (not supported in the browser yet),\n",
              "// where there are multiple asynchronous steps and the Python side is going\n",
              "// to poll for completion of each step.\n",
              "// This uses a Promise to block the python side on completion of each step,\n",
              "// then passes the result of the previous step as the input to the next step.\n",
              "function _uploadFilesContinue(outputId) {\n",
              "  const outputElement = document.getElementById(outputId);\n",
              "  const steps = outputElement.steps;\n",
              "\n",
              "  const next = steps.next(outputElement.lastPromiseValue);\n",
              "  return Promise.resolve(next.value.promise).then((value) => {\n",
              "    // Cache the last promise value to make it available to the next\n",
              "    // step of the generator.\n",
              "    outputElement.lastPromiseValue = value;\n",
              "    return next.value.response;\n",
              "  });\n",
              "}\n",
              "\n",
              "/**\n",
              " * Generator function which is called between each async step of the upload\n",
              " * process.\n",
              " * @param {string} inputId Element ID of the input file picker element.\n",
              " * @param {string} outputId Element ID of the output display.\n",
              " * @return {!Iterable<!Object>} Iterable of next steps.\n",
              " */\n",
              "function* uploadFilesStep(inputId, outputId) {\n",
              "  const inputElement = document.getElementById(inputId);\n",
              "  inputElement.disabled = false;\n",
              "\n",
              "  const outputElement = document.getElementById(outputId);\n",
              "  outputElement.innerHTML = '';\n",
              "\n",
              "  const pickedPromise = new Promise((resolve) => {\n",
              "    inputElement.addEventListener('change', (e) => {\n",
              "      resolve(e.target.files);\n",
              "    });\n",
              "  });\n",
              "\n",
              "  const cancel = document.createElement('button');\n",
              "  inputElement.parentElement.appendChild(cancel);\n",
              "  cancel.textContent = 'Cancel upload';\n",
              "  const cancelPromise = new Promise((resolve) => {\n",
              "    cancel.onclick = () => {\n",
              "      resolve(null);\n",
              "    };\n",
              "  });\n",
              "\n",
              "  // Wait for the user to pick the files.\n",
              "  const files = yield {\n",
              "    promise: Promise.race([pickedPromise, cancelPromise]),\n",
              "    response: {\n",
              "      action: 'starting',\n",
              "    }\n",
              "  };\n",
              "\n",
              "  cancel.remove();\n",
              "\n",
              "  // Disable the input element since further picks are not allowed.\n",
              "  inputElement.disabled = true;\n",
              "\n",
              "  if (!files) {\n",
              "    return {\n",
              "      response: {\n",
              "        action: 'complete',\n",
              "      }\n",
              "    };\n",
              "  }\n",
              "\n",
              "  for (const file of files) {\n",
              "    const li = document.createElement('li');\n",
              "    li.append(span(file.name, {fontWeight: 'bold'}));\n",
              "    li.append(span(\n",
              "        `(${file.type || 'n/a'}) - ${file.size} bytes, ` +\n",
              "        `last modified: ${\n",
              "            file.lastModifiedDate ? file.lastModifiedDate.toLocaleDateString() :\n",
              "                                    'n/a'} - `));\n",
              "    const percent = span('0% done');\n",
              "    li.appendChild(percent);\n",
              "\n",
              "    outputElement.appendChild(li);\n",
              "\n",
              "    const fileDataPromise = new Promise((resolve) => {\n",
              "      const reader = new FileReader();\n",
              "      reader.onload = (e) => {\n",
              "        resolve(e.target.result);\n",
              "      };\n",
              "      reader.readAsArrayBuffer(file);\n",
              "    });\n",
              "    // Wait for the data to be ready.\n",
              "    let fileData = yield {\n",
              "      promise: fileDataPromise,\n",
              "      response: {\n",
              "        action: 'continue',\n",
              "      }\n",
              "    };\n",
              "\n",
              "    // Use a chunked sending to avoid message size limits. See b/62115660.\n",
              "    let position = 0;\n",
              "    do {\n",
              "      const length = Math.min(fileData.byteLength - position, MAX_PAYLOAD_SIZE);\n",
              "      const chunk = new Uint8Array(fileData, position, length);\n",
              "      position += length;\n",
              "\n",
              "      const base64 = btoa(String.fromCharCode.apply(null, chunk));\n",
              "      yield {\n",
              "        response: {\n",
              "          action: 'append',\n",
              "          file: file.name,\n",
              "          data: base64,\n",
              "        },\n",
              "      };\n",
              "\n",
              "      let percentDone = fileData.byteLength === 0 ?\n",
              "          100 :\n",
              "          Math.round((position / fileData.byteLength) * 100);\n",
              "      percent.textContent = `${percentDone}% done`;\n",
              "\n",
              "    } while (position < fileData.byteLength);\n",
              "  }\n",
              "\n",
              "  // All done.\n",
              "  yield {\n",
              "    response: {\n",
              "      action: 'complete',\n",
              "    }\n",
              "  };\n",
              "}\n",
              "\n",
              "scope.google = scope.google || {};\n",
              "scope.google.colab = scope.google.colab || {};\n",
              "scope.google.colab._files = {\n",
              "  _uploadFiles,\n",
              "  _uploadFilesContinue,\n",
              "};\n",
              "})(self);\n",
              "</script> "
            ]
          },
          "metadata": {}
        },
        {
          "output_type": "stream",
          "name": "stdout",
          "text": [
            "Saving val.txt to val.txt\n"
          ]
        }
      ],
      "source": [
        "from google.colab import files\n",
        "uploaded = files.upload()\n",
        "uploaded = files.upload()"
      ]
    },
    {
      "cell_type": "markdown",
      "source": [
        "### 3 - Data Preprocessing and Unsmoothed n-grams"
      ],
      "metadata": {
        "id": "tGykJf4i6O2m"
      }
    },
    {
      "cell_type": "markdown",
      "metadata": {
        "id": "XS8OA8aQNowo"
      },
      "source": [
        "Start placing the space-delimited tokens in an array for use. In this implementation, we treated the punctuation as necessary tokens for probability calculations. In addition, we decided to add start/stop tokens to indicate the beginning and end of each sentence. We also converted each token to all lowercase."
      ]
    },
    {
      "cell_type": "code",
      "execution_count": null,
      "metadata": {
        "id": "udHX08P-Epew"
      },
      "outputs": [],
      "source": [
        "train_tokens = []\n",
        "with open(\"train.txt\", \"r\", encoding=\"utf-8\") as f:\n",
        "    for line in f:\n",
        "        line = line.lower()\n",
        "        tokens = line.strip().split(\" \")\n",
        "        sentence = [\"<s>\"]\n",
        "        for token in tokens:\n",
        "            sentence.append(token)\n",
        "            if token in {\".\", \"!\", \"?\"}:\n",
        "                sentence.append(\"</s>\")\n",
        "                train_tokens.extend(sentence)\n",
        "                sentence = [\"<s>\"]\n",
        "        if sentence != [\"<s>\"]:\n",
        "            sentence.append(\"</s>\")\n",
        "            train_tokens.extend(sentence)\n",
        "\n",
        "print(\"List of tokens in the training set: \", train_tokens)"
      ]
    },
    {
      "cell_type": "markdown",
      "metadata": {
        "id": "ohKmfLdjODqU"
      },
      "source": [
        "Parse through the training tokens list and keep count of each unique token in the unigram dictionary."
      ]
    },
    {
      "cell_type": "code",
      "execution_count": null,
      "metadata": {
        "id": "mYLQz4UVJKTx"
      },
      "outputs": [],
      "source": [
        "dict = {}\n",
        "for token in train_tokens:\n",
        "    if token in dict:\n",
        "        dict[token] += 1\n",
        "    else:\n",
        "        dict[token] = 1\n",
        "\n",
        "total_tokens = sum(dict.values())\n",
        "\n",
        "print(\"Dictionary of word to count prior to unknown word handling: \", dict)\n",
        "print(total_tokens)"
      ]
    },
    {
      "cell_type": "markdown",
      "metadata": {
        "id": "CWDCQg7SPbUp"
      },
      "source": [
        "For unigram implementation, get the probability by dividing token count with total unique token count."
      ]
    },
    {
      "cell_type": "code",
      "execution_count": null,
      "metadata": {
        "id": "bssPnhW0KI7h"
      },
      "outputs": [],
      "source": [
        "uni_prob = {}\n",
        "for token, count in dict.items():\n",
        "    uni_prob[token] = count / total_tokens\n",
        "\n",
        "print(\"Dictionary of word to probability prior to unknown word handling: \", uni_prob)\n",
        "print(len(uni_prob))"
      ]
    },
    {
      "cell_type": "markdown",
      "metadata": {
        "id": "2Ad1HUGzPiJA"
      },
      "source": [
        "Form all possible consecutive pairs between the tokens in the tokens list and add them to the bigram dictionary."
      ]
    },
    {
      "cell_type": "code",
      "execution_count": null,
      "metadata": {
        "id": "Gxurm51bKp8y"
      },
      "outputs": [],
      "source": [
        "bi_dict = {}\n",
        "for i in range(len(train_tokens) - 1):\n",
        "  pair = (train_tokens[i], train_tokens[i + 1])\n",
        "  if pair in bi_dict:\n",
        "    bi_dict[pair] += 1\n",
        "  else:\n",
        "    bi_dict[pair] = 1\n",
        "\n",
        "print(\"Dictionary of bigram to count prior to unknown word handling: \", bi_dict)"
      ]
    },
    {
      "cell_type": "markdown",
      "metadata": {
        "id": "6v0EA2avVJ4n"
      },
      "source": [
        "For bigram implementation, using the bigram dictionary, calculate all the probabilites of the pairs by dividing the count of the pair with the count of the given word, which can be found using the original unigram dictionary."
      ]
    },
    {
      "cell_type": "code",
      "execution_count": null,
      "metadata": {
        "id": "9SA4Ezf1M1BI"
      },
      "outputs": [],
      "source": [
        "bi_prob = {}\n",
        "for (word1, word2), count in bi_dict.items():\n",
        "  bi_prob[(word1, word2)] = count / dict[word1]\n",
        "\n",
        "print(\"Dictionary of bigram to probability prior to unknown word handling: \", bi_prob)\n",
        "print(len(bi_prob))"
      ]
    },
    {
      "cell_type": "markdown",
      "metadata": {
        "id": "OniJ5xX2Qq1K"
      },
      "source": [
        "### 4 - Unknown word handling and smoothing"
      ]
    },
    {
      "cell_type": "markdown",
      "metadata": {
        "id": "Wae9oX8NX_HX"
      },
      "source": [
        "We handle unknown words here using the unknown word token approach, where we replace all words in the training set with a count of 1 with unk, since the word is rare anyway."
      ]
    },
    {
      "cell_type": "code",
      "execution_count": null,
      "metadata": {
        "collapsed": true,
        "id": "UI1mKV_vK-PW"
      },
      "outputs": [],
      "source": [
        "unknown_train_tokens = []\n",
        "for i in range(0, len(train_tokens)):\n",
        "  if dict[train_tokens[i]] <= 1:\n",
        "    unknown_train_tokens.append(\"<unk>\")\n",
        "  else:\n",
        "    unknown_train_tokens.append(train_tokens[i])\n",
        "unknown_word_handling_dict = {}\n",
        "for token in unknown_train_tokens:\n",
        "    if token in unknown_word_handling_dict:\n",
        "        unknown_word_handling_dict[token] += 1\n",
        "    else:\n",
        "        unknown_word_handling_dict[token] = 1\n",
        "print(\"Dictionary of word to count with unknown word handling: \", unknown_word_handling_dict)"
      ]
    },
    {
      "cell_type": "code",
      "source": [
        "unknown_word_handling_dict_prob = {}\n",
        "for token, count in unknown_word_handling_dict.items():\n",
        "    unknown_word_handling_dict_prob[token] = count / sum(unknown_word_handling_dict.values())\n",
        "\n",
        "print(\"Dictionary of word to probability with unknown word handling: \", unknown_word_handling_dict_prob)\n",
        "print(len(unknown_word_handling_dict_prob))"
      ],
      "metadata": {
        "id": "WhJNV8tRyFW8"
      },
      "execution_count": null,
      "outputs": []
    },
    {
      "cell_type": "code",
      "execution_count": null,
      "metadata": {
        "id": "WbH1H2yqaYqV"
      },
      "outputs": [],
      "source": [
        "unknown_bi_dict = {}\n",
        "for i in range(len(unknown_train_tokens) - 1):\n",
        "  pair = (unknown_train_tokens[i], unknown_train_tokens[i + 1])\n",
        "  if pair in unknown_bi_dict:\n",
        "    unknown_bi_dict[pair] += 1\n",
        "  else:\n",
        "    unknown_bi_dict[pair] = 1\n",
        "\n",
        "print(\"Bigram dictionary with unknown token: \", unknown_bi_dict)"
      ]
    },
    {
      "cell_type": "markdown",
      "metadata": {
        "id": "EDaLQnGHNoJr"
      },
      "source": [
        "After getting the unigram and bigram probabilities, we can smooth the probabilities. Since we dealt with unknown words with a unk token, the unigrams don't need to be smoothed, since every word is already assigned a probability. Add-K smoothing for bigrams involves creating all possible 2-token combinations and giving them a value."
      ]
    },
    {
      "cell_type": "code",
      "execution_count": null,
      "metadata": {
        "id": "cAuPu5w-LYf0"
      },
      "outputs": [],
      "source": [
        "# LAPLACE SMOOTHING\n",
        "laplace_smoothed_unknown_bi_dict = {}\n",
        "for pair, count in unknown_bi_dict.items():\n",
        "  laplace_smoothed_unknown_bi_dict[pair] = (count + 1)/(unknown_word_handling_dict[pair[0]] + len(unknown_word_handling_dict.keys()))\n",
        "\n",
        "print(\"Laplace smoothed dict:\", laplace_smoothed_unknown_bi_dict)\n",
        "\n",
        "# Add-K SMOOTHING (0.10, 0.25, 0.50)\n",
        "K = 0.10\n",
        "add_010k_smoothed_unknown_bi_dict = {}\n",
        "for pair, count in unknown_bi_dict.items():\n",
        "  add_010k_smoothed_unknown_bi_dict[pair] = (count + K)/(unknown_word_handling_dict[pair[0]] + len(unknown_word_handling_dict.keys()) * K)\n",
        "\n",
        "K = 0.25\n",
        "add_025k_smoothed_unknown_bi_dict = {}\n",
        "for pair, count in unknown_bi_dict.items():\n",
        "  add_025k_smoothed_unknown_bi_dict[pair] = (count + K)/(unknown_word_handling_dict[pair[0]] + len(unknown_word_handling_dict.keys()) * K)\n",
        "\n",
        "K = 0.50\n",
        "add_050k_smoothed_unknown_bi_dict = {}\n",
        "for pair, count in unknown_bi_dict.items():\n",
        "  add_050k_smoothed_unknown_bi_dict[pair] = (count + K)/(unknown_word_handling_dict[pair[0]] + len(unknown_word_handling_dict.keys()) * K)\n",
        "\n",
        "print(\"Add-k smoothed dict with k = 0.1: \", add_010k_smoothed_unknown_bi_dict)\n",
        "print(\"Add-k smoothed dict with k = 0.25: \", add_025k_smoothed_unknown_bi_dict)\n",
        "print(\"Add-k smoothed dict with k = 0.5: \", add_050k_smoothed_unknown_bi_dict)"
      ]
    },
    {
      "cell_type": "code",
      "source": [
        "val_tokens = []\n",
        "with open(\"val.txt\", \"r\", encoding=\"utf-8\") as f:\n",
        "    for line in f:\n",
        "        line = line.lower()\n",
        "        tokens = line.strip().split(\" \")\n",
        "        sentence = [\"<s>\"]\n",
        "        for token in tokens:\n",
        "            sentence.append(token)\n",
        "            if token in {\".\", \"!\", \"?\"}:\n",
        "                sentence.append(\"</s>\")\n",
        "                val_tokens.extend(sentence)\n",
        "                sentence = [\"<s>\"]\n",
        "        if sentence != [\"<s>\"]:\n",
        "            sentence.append(\"</s>\")\n",
        "            val_tokens.extend(sentence)\n",
        "\n",
        "for i in range(0, len(val_tokens)):\n",
        "  if val_tokens[i] not in list(unknown_word_handling_dict.keys()):\n",
        "    val_tokens[i] = \"<unk>\"\n",
        "print(\"List of tokens in the validation set: \", val_tokens)"
      ],
      "metadata": {
        "id": "J2ZaT9M2uheY"
      },
      "execution_count": null,
      "outputs": []
    },
    {
      "cell_type": "markdown",
      "source": [
        "### 5 - Perplexity"
      ],
      "metadata": {
        "id": "XL2toGuC5Wmw"
      }
    },
    {
      "cell_type": "markdown",
      "source": [
        "Unigram Perplexity Calculation"
      ],
      "metadata": {
        "id": "2l2GN4Idxa5B"
      }
    },
    {
      "cell_type": "code",
      "execution_count": null,
      "metadata": {
        "id": "o-hKl_8PWYs4",
        "colab": {
          "base_uri": "https://localhost:8080/"
        },
        "outputId": "1485ba55-7a41-4fb4-a4bf-b8bfe282e316"
      },
      "outputs": [
        {
          "output_type": "stream",
          "name": "stdout",
          "text": [
            "Unigram - perplexity:  239.7254702907334\n"
          ]
        }
      ],
      "source": [
        "import math\n",
        "perp_sum = 0\n",
        "for token in val_tokens:\n",
        "  prob = unknown_word_handling_dict_prob[token]\n",
        "  perp_sum += math.log(prob) * -1\n",
        "\n",
        "unigram_perplexity = math.exp(perp_sum / len(val_tokens))\n",
        "print(\"Unigram - perplexity: \", unigram_perplexity)"
      ]
    },
    {
      "cell_type": "markdown",
      "source": [
        "Bigram Laplace Perplexity"
      ],
      "metadata": {
        "id": "SBV4RbfdxkQ9"
      }
    },
    {
      "cell_type": "code",
      "source": [
        "import math\n",
        "perp_sum = 0\n",
        "for i in range(0, len(val_tokens)-1):\n",
        "  pair = (val_tokens[i], val_tokens[i+1])\n",
        "  if pair != (\"</s>\", \"<s>\"):\n",
        "    try:\n",
        "      prob = laplace_smoothed_unknown_bi_dict[pair]\n",
        "    except KeyError:\n",
        "      prob = 1/(unknown_word_handling_dict[pair[0]] + len(unknown_word_handling_dict.keys()))\n",
        "    perp_sum += math.log(prob) * -1\n",
        "\n",
        "bigram_laplace_perplexity = math.exp(perp_sum / len(val_tokens))\n",
        "print(\"Laplace smoothing for bigram - perplexity: \", bigram_laplace_perplexity)"
      ],
      "metadata": {
        "id": "R7TZym5A1eNQ",
        "colab": {
          "base_uri": "https://localhost:8080/"
        },
        "outputId": "f8adc4cf-194f-4f2c-cd46-59c515d8e896"
      },
      "execution_count": null,
      "outputs": [
        {
          "output_type": "stream",
          "name": "stdout",
          "text": [
            "Laplace smoothing for bigram - perplexity:  233.99399201670414\n"
          ]
        }
      ]
    },
    {
      "cell_type": "markdown",
      "source": [
        "Bigram Add K Perplexity"
      ],
      "metadata": {
        "id": "A9ld317S9c1V"
      }
    },
    {
      "cell_type": "code",
      "source": [
        "import math\n",
        "sum_add01 = 0\n",
        "sum_add025 = 0\n",
        "sum_add05 = 0\n",
        "for i in range(0, len(val_tokens)-1):\n",
        "  pair = (val_tokens[i], val_tokens[i+1])\n",
        "  if pair != (\"</s>\", \"<s>\"):\n",
        "    try:\n",
        "      prob01 = add_010k_smoothed_unknown_bi_dict[pair]\n",
        "    except KeyError:\n",
        "      prob01 = 1/(unknown_word_handling_dict[pair[0]] + 0.1 * len(unknown_word_handling_dict.keys()))\n",
        "    try:\n",
        "      prob025 = add_025k_smoothed_unknown_bi_dict[pair]\n",
        "    except KeyError:\n",
        "      prob025 = 1/(unknown_word_handling_dict[pair[0]] + 0.25 * len(unknown_word_handling_dict.keys()))\n",
        "    try:\n",
        "      prob05 = add_050k_smoothed_unknown_bi_dict[pair]\n",
        "    except KeyError:\n",
        "      prob05 = 1/(unknown_word_handling_dict[pair[0]] + 0.5 * len(unknown_word_handling_dict.keys()))\n",
        "    sum_add01 += math.log(prob01) * -1\n",
        "    sum_add025 += math.log(prob025) * -1\n",
        "    sum_add05 += math.log(prob05) * -1\n",
        "\n",
        "bigram_add_01_perplexity = math.exp(sum_add01 / len(val_tokens))\n",
        "\n",
        "bigram_add_025_perplexity = math.exp(sum_add025 / len(val_tokens))\n",
        "\n",
        "bigram_add_05_perplexity = math.exp(sum_add05 / len(val_tokens))\n",
        "\n",
        "print(\"Add k smoothing for bigram with k = 0.1 - perplexity: \", bigram_add_01_perplexity)\n",
        "print(\"Add k smoothing for bigram with k = 0.25 - perplexity: \", bigram_add_025_perplexity)\n",
        "print(\"Add k smoothing for bigram with k = 0.5 - perplexity: \", bigram_add_05_perplexity)"
      ],
      "metadata": {
        "colab": {
          "base_uri": "https://localhost:8080/"
        },
        "id": "i4RcH_r343_r",
        "outputId": "21e7d8ae-8b0e-423c-e3d0-772f627c0c08"
      },
      "execution_count": null,
      "outputs": [
        {
          "output_type": "stream",
          "name": "stdout",
          "text": [
            "Add k smoothing for bigram with k = 0.1 - perplexity:  69.24696162663253\n",
            "Add k smoothing for bigram with k = 0.25 - perplexity:  105.93249718837934\n",
            "Add k smoothing for bigram with k = 0.5 - perplexity:  154.40809162430068\n"
          ]
        }
      ]
    }
  ],
  "metadata": {
    "colab": {
      "provenance": [],
      "include_colab_link": true
    },
    "kernelspec": {
      "display_name": "Python 3",
      "name": "python3"
    },
    "language_info": {
      "name": "python"
    }
  },
  "nbformat": 4,
  "nbformat_minor": 0
}